{
 "cells": [
  {
   "cell_type": "markdown",
   "id": "041fbfb8",
   "metadata": {},
   "source": [
    "1. hi\n",
    "2. hell\n",
    "3. hd\n",
    "    1. h\n",
    "    2. d"
   ]
  },
  {
   "cell_type": "code",
   "execution_count": 1,
   "id": "79372dc6",
   "metadata": {},
   "outputs": [
    {
     "data": {
      "text/plain": [
       "2"
      ]
     },
     "execution_count": 1,
     "metadata": {},
     "output_type": "execute_result"
    }
   ],
   "source": [
    "1+1"
   ]
  },
  {
   "cell_type": "code",
   "execution_count": 3,
   "id": "140fc492",
   "metadata": {},
   "outputs": [
    {
     "name": "stdout",
     "output_type": "stream",
     "text": [
      "                                               Title  \\\n",
      "0  Ferdinandsbrücke Project, Vienna, Austria (Ele...   \n",
      "1  City of Music, National Superior Conservatory ...   \n",
      "2  Villa project, outside Vienna, Austria (Elevat...   \n",
      "3  The Manhattan Transcripts Project, New York, N...   \n",
      "4  Villa project, outside Vienna, Austria (Exteri...   \n",
      "\n",
      "                     Artist ConstituentID  \\\n",
      "0               Otto Wagner          6210   \n",
      "1  Christian de Portzamparc          7470   \n",
      "2                Emil Hoppe          7605   \n",
      "3           Bernard Tschumi          7056   \n",
      "4                Emil Hoppe          7605   \n",
      "\n",
      "                                   ArtistBio Nationality BeginDate EndDate  \\\n",
      "0                      (Austrian, 1841–1918)  (Austrian)    (1841)  (1918)   \n",
      "1                        (French, born 1944)    (French)    (1944)     (0)   \n",
      "2                      (Austrian, 1876–1957)  (Austrian)    (1876)  (1957)   \n",
      "3  (French and Swiss, born Switzerland 1944)          ()    (1944)     (0)   \n",
      "4                      (Austrian, 1876–1957)  (Austrian)    (1876)  (1957)   \n",
      "\n",
      "   Gender  Date                                             Medium  ...  \\\n",
      "0  (male)  1896      Ink and cut-and-pasted painted pages on paper  ...   \n",
      "1  (male)  1987                  Paint and colored pencil on print  ...   \n",
      "2  (male)  1903  Graphite, pen, color pencil, ink, and gouache ...  ...   \n",
      "3  (male)  1980  Photographic reproduction with colored synthet...  ...   \n",
      "4  (male)  1903  Graphite, color pencil, ink, and gouache on tr...  ...   \n",
      "\n",
      "  OnView Circumference (cm) Depth (cm) Diameter (cm) Height (cm) Length (cm)  \\\n",
      "0    NaN                NaN        NaN           NaN     48.6000         NaN   \n",
      "1    NaN                NaN        NaN           NaN     40.6401         NaN   \n",
      "2    NaN                NaN        NaN           NaN     34.3000         NaN   \n",
      "3    NaN                NaN        NaN           NaN     50.8000         NaN   \n",
      "4    NaN                NaN        NaN           NaN     38.4000         NaN   \n",
      "\n",
      "  Weight (kg)  Width (cm) Seat Height (cm) Duration (sec.)  \n",
      "0         NaN    168.9000              NaN             NaN  \n",
      "1         NaN     29.8451              NaN             NaN  \n",
      "2         NaN     31.8000              NaN             NaN  \n",
      "3         NaN     50.8000              NaN             NaN  \n",
      "4         NaN     19.1000              NaN             NaN  \n",
      "\n",
      "[5 rows x 30 columns]\n",
      "Title                     48\n",
      "Artist                  1261\n",
      "ConstituentID           1261\n",
      "ArtistBio               6078\n",
      "Nationality             1261\n",
      "BeginDate               1261\n",
      "EndDate                 1261\n",
      "Gender                  1261\n",
      "Date                    2018\n",
      "Medium                  9254\n",
      "Dimensions              8644\n",
      "CreditLine              1524\n",
      "AccessionNumber            0\n",
      "Classification             0\n",
      "Department                 0\n",
      "DateAcquired            6786\n",
      "Cataloged                  0\n",
      "ObjectID                   0\n",
      "URL                    56648\n",
      "ImageURL               66024\n",
      "OnView                155299\n",
      "Circumference (cm)    156623\n",
      "Depth (cm)            138818\n",
      "Diameter (cm)         155164\n",
      "Height (cm)            28747\n",
      "Length (cm)           155922\n",
      "Weight (kg)           156337\n",
      "Width (cm)             29674\n",
      "Seat Height (cm)      156633\n",
      "Duration (sec.)       154681\n",
      "dtype: int64\n"
     ]
    }
   ],
   "source": [
    "import pandas as pd\n",
    "\n",
    "# URL link to the CSV file on GitHub\n",
    "url = \"https://media.githubusercontent.com/media/MuseumofModernArt/collection/main/Artworks.csv\"\n",
    "\n",
    "# Load the dataset directly into a DataFrame\n",
    "moma_data = pd.read_csv(url)\n",
    "\n",
    "# Display the first few rows of the dataset\n",
    "print(moma_data.head())\n",
    "\n",
    "# Check for missing values in the dataset\n",
    "print(moma_data.isnull().sum())"
   ]
  },
  {
   "cell_type": "code",
   "execution_count": 4,
   "id": "cc0c385e",
   "metadata": {},
   "outputs": [
    {
     "name": "stdout",
     "output_type": "stream",
     "text": [
      "Missing values per column:\n",
      "Title                     48\n",
      "Artist                  1261\n",
      "ConstituentID           1261\n",
      "ArtistBio               6078\n",
      "Nationality             1261\n",
      "BeginDate               1261\n",
      "EndDate                 1261\n",
      "Gender                  1261\n",
      "Date                    2018\n",
      "Medium                  9254\n",
      "Dimensions              8644\n",
      "CreditLine              1524\n",
      "AccessionNumber            0\n",
      "Classification             0\n",
      "Department                 0\n",
      "DateAcquired            6786\n",
      "Cataloged                  0\n",
      "ObjectID                   0\n",
      "URL                    56648\n",
      "ImageURL               66024\n",
      "OnView                155299\n",
      "Circumference (cm)    156623\n",
      "Depth (cm)            138818\n",
      "Diameter (cm)         155164\n",
      "Height (cm)            28747\n",
      "Length (cm)           155922\n",
      "Weight (kg)           156337\n",
      "Width (cm)             29674\n",
      "Seat Height (cm)      156633\n",
      "Duration (sec.)       154681\n",
      "dtype: int64\n"
     ]
    }
   ],
   "source": [
    "# Check for missing values in the dataset\n",
    "missing_values = moma_data.isnull().sum()\n",
    "\n",
    "# Print the count of missing values for each column\n",
    "print(\"Missing values per column:\")\n",
    "print(missing_values)"
   ]
  },
  {
   "cell_type": "markdown",
   "id": "edaff3e0",
   "metadata": {},
   "source": [
    "**Summary of Interaction with ChatGPT**\n",
    "\n",
    "**https://chatgpt.com/share/ea8cc090-67db-4b5a-a3eb-68a8183f2794**\n",
    "\n",
    "In this interaction, I sought assistance from ChatGPT to find an amusing, funny, or otherwise interesting dataset for my assignment. The requirements included ensuring the dataset contained missing values and providing a URL link to directly load the data into a notebook.\n",
    "\n",
    "1. **Finding an Amusing Dataset**: ChatGPT suggested several datasets, including the Museum of Modern Art (MoMA) Collection dataset. While the dataset was interesting due to its rich cultural and historical content, it didn't fully meet the criteria of being funny or amusing, which was a key requirement.\n",
    "\n",
    "2. **Checking for Missing Values**: After selecting the MoMA dataset, I asked ChatGPT whether the dataset had missing values, as this was a necessary condition for my assignment. ChatGPT confirmed that the dataset does indeed contain missing values, which would allow me to test data cleaning and analysis methods effectively.\n",
    "\n",
    "3. **Loading the Dataset via URL**: ChatGPT provided direct links for accessing various datasets. However, many of the provided links did not work as expected, except for the one that accessed the MoMA Collection dataset on GitHub. The working link led directly to the dataset, allowing me to load it into my notebook for analysis.\n",
    "\n",
    "4. **Overall Performance and Feedback**: ChatGPT was helpful in identifying a dataset with missing values and guiding me on how to check for missing data. However, there were some challenges with accessing the datasets via the provided URLs, and the dataset choice did not fully align with the \"amusing or funny\" aspect requested.\n",
    "\n",
    "**Final Notes**: The interaction was useful in fulfilling part of the assignment's requirements, particularly in handling missing values and accessing the dataset. Moving forward, more precise dataset suggestions and ensuring all links are functional would enhance the overall experience."
   ]
  }
 ],
 "metadata": {
  "kernelspec": {
   "display_name": "Python 3 (ipykernel)",
   "language": "python",
   "name": "python3"
  },
  "language_info": {
   "codemirror_mode": {
    "name": "ipython",
    "version": 3
   },
   "file_extension": ".py",
   "mimetype": "text/x-python",
   "name": "python",
   "nbconvert_exporter": "python",
   "pygments_lexer": "ipython3",
   "version": "3.11.6"
  }
 },
 "nbformat": 4,
 "nbformat_minor": 5
}
